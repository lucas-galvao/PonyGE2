{
  "nbformat": 4,
  "nbformat_minor": 0,
  "metadata": {
    "kernelspec": {
      "language": "python",
      "display_name": "Python 3",
      "name": "python3"
    },
    "language_info": {
      "name": "python",
      "version": "3.7.10",
      "mimetype": "text/x-python",
      "codemirror_mode": {
        "name": "ipython",
        "version": 3
      },
      "pygments_lexer": "ipython3",
      "nbconvert_exporter": "python",
      "file_extension": ".py"
    },
    "colab": {
      "name": "medmnist_tpu.ipynb",
      "provenance": [],
      "collapsed_sections": []
    },
    "accelerator": "TPU"
  },
  "cells": [
    {
      "cell_type": "code",
      "metadata": {
        "_uuid": "8f2839f25d086af736a60e9eeb907d3b93b6e0e5",
        "_cell_guid": "b1076dfc-b9ad-4769-8c92-a6c4dae69d19",
        "execution": {
          "iopub.status.busy": "2021-06-06T20:18:40.221264Z",
          "iopub.execute_input": "2021-06-06T20:18:40.222025Z",
          "iopub.status.idle": "2021-06-06T20:18:59.734295Z",
          "shell.execute_reply.started": "2021-06-06T20:18:40.221929Z",
          "shell.execute_reply": "2021-06-06T20:18:59.733149Z"
        },
        "trusted": true,
        "colab": {
          "base_uri": "https://localhost:8080/"
        },
        "id": "cddL7_TSAwXC",
        "outputId": "af5be256-f7cf-4764-cd8c-ce8ff15f23e7"
      },
      "source": [
        "!pip install gdown\n",
        "!gdown https://drive.google.com/uc?id=1MvPjY4m58TW51NZbUIl5tRJbERKMnIk7 -O pathmnist.npz\n",
        "!gdown https://drive.google.com/uc?id=146WDl2VzVdLhnJl5JqYqKVyDPlDQoLDl -O octmnist.npz\n",
        "!gdown https://drive.google.com/uc?id=1BIJFOn5ivB766qNIZdI2Owt8GAmpsmic -O organmnist_axial.npz"
      ],
      "execution_count": null,
      "outputs": [
        {
          "output_type": "stream",
          "text": [
            "Requirement already satisfied: gdown in /usr/local/lib/python3.7/dist-packages (3.6.4)\n",
            "Requirement already satisfied: requests in /usr/local/lib/python3.7/dist-packages (from gdown) (2.23.0)\n",
            "Requirement already satisfied: tqdm in /usr/local/lib/python3.7/dist-packages (from gdown) (4.41.1)\n",
            "Requirement already satisfied: six in /usr/local/lib/python3.7/dist-packages (from gdown) (1.15.0)\n",
            "Requirement already satisfied: urllib3!=1.25.0,!=1.25.1,<1.26,>=1.21.1 in /usr/local/lib/python3.7/dist-packages (from requests->gdown) (1.24.3)\n",
            "Requirement already satisfied: certifi>=2017.4.17 in /usr/local/lib/python3.7/dist-packages (from requests->gdown) (2020.12.5)\n",
            "Requirement already satisfied: chardet<4,>=3.0.2 in /usr/local/lib/python3.7/dist-packages (from requests->gdown) (3.0.4)\n",
            "Requirement already satisfied: idna<3,>=2.5 in /usr/local/lib/python3.7/dist-packages (from requests->gdown) (2.10)\n",
            "Downloading...\n",
            "From: https://drive.google.com/uc?id=1BIJFOn5ivB766qNIZdI2Owt8GAmpsmic\n",
            "To: /content/organmnist_axial.npz\n",
            "38.2MB [00:00, 82.2MB/s]\n"
          ],
          "name": "stdout"
        }
      ]
    },
    {
      "cell_type": "code",
      "metadata": {
        "execution": {
          "iopub.status.busy": "2021-06-06T20:19:12.211355Z",
          "iopub.execute_input": "2021-06-06T20:19:12.211699Z",
          "iopub.status.idle": "2021-06-06T20:19:14.070204Z",
          "shell.execute_reply.started": "2021-06-06T20:19:12.211665Z",
          "shell.execute_reply": "2021-06-06T20:19:14.069090Z"
        },
        "trusted": true,
        "colab": {
          "base_uri": "https://localhost:8080/"
        },
        "id": "MUiO64oBAwXG",
        "outputId": "4dd847eb-dec4-4806-df11-0c7f681db114"
      },
      "source": [
        "!git clone https://github.com/clbcabral/PonyGE2.git"
      ],
      "execution_count": null,
      "outputs": [
        {
          "output_type": "stream",
          "text": [
            "Cloning into 'PonyGE2'...\n",
            "remote: Enumerating objects: 6276, done.\u001b[K\n",
            "remote: Counting objects: 100% (420/420), done.\u001b[K\n",
            "remote: Compressing objects: 100% (300/300), done.\u001b[K\n",
            "remote: Total 6276 (delta 288), reused 224 (delta 118), pack-reused 5856\u001b[K\n",
            "Receiving objects: 100% (6276/6276), 5.82 MiB | 14.72 MiB/s, done.\n",
            "Resolving deltas: 100% (4451/4451), done.\n"
          ],
          "name": "stdout"
        }
      ]
    },
    {
      "cell_type": "code",
      "metadata": {
        "execution": {
          "iopub.status.busy": "2021-06-06T20:23:43.078842Z",
          "iopub.execute_input": "2021-06-06T20:23:43.079235Z",
          "iopub.status.idle": "2021-06-06T20:23:44.219805Z",
          "shell.execute_reply.started": "2021-06-06T20:23:43.079200Z",
          "shell.execute_reply": "2021-06-06T20:23:44.218640Z"
        },
        "trusted": true,
        "colab": {
          "base_uri": "https://localhost:8080/"
        },
        "id": "xApDKlJYAwXI",
        "outputId": "96ee246e-c5e1-4a2f-b6f8-452d2263708a"
      },
      "source": [
        "!cd PonyGE2/ && git pull"
      ],
      "execution_count": null,
      "outputs": [
        {
          "output_type": "stream",
          "text": [
            "Already up to date.\n"
          ],
          "name": "stdout"
        }
      ]
    },
    {
      "cell_type": "code",
      "metadata": {
        "execution": {
          "iopub.status.busy": "2021-06-06T20:23:47.933139Z",
          "iopub.execute_input": "2021-06-06T20:23:47.933530Z"
        },
        "trusted": true,
        "id": "7Yuyi8ZbAwXK"
      },
      "source": [
        "!cd PonyGE2/src && python ponyge.py --parameters med_organmnist_axial.txt"
      ],
      "execution_count": null,
      "outputs": []
    },
    {
      "cell_type": "code",
      "metadata": {
        "id": "JAFYWZLlv-5s"
      },
      "source": [
        "!cd PonyGE2/src && python ponyge.py --parameters med_octmnist.txt"
      ],
      "execution_count": null,
      "outputs": []
    },
    {
      "cell_type": "code",
      "metadata": {
        "id": "_ueJUfgav_CP"
      },
      "source": [
        "!cd PonyGE2/src && python ponyge.py --parameters med_pathmnist.txt"
      ],
      "execution_count": null,
      "outputs": []
    }
  ]
}